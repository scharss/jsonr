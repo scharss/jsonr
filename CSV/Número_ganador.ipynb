{
  "cells": [
    {
      "cell_type": "code",
      "execution_count": null,
      "metadata": {
        "id": "kiM4qP7AsX2i"
      },
      "outputs": [],
      "source": [
        "import pandas as pd\n"
      ]
    },
    {
      "cell_type": "code",
      "execution_count": null,
      "metadata": {
        "id": "6zAotglKssSD"
      },
      "outputs": [],
      "source": [
        "df = pd.read_csv('lty-lottery-tickets.csv')"
      ]
    },
    {
      "cell_type": "code",
      "execution_count": null,
      "metadata": {
        "colab": {
          "background_save": true
        },
        "id": "vmQ4mJZeswAi"
      },
      "outputs": [],
      "source": [
        "ganador = int(input('Digita un número de lotería '))"
      ]
    },
    {
      "cell_type": "code",
      "execution_count": null,
      "metadata": {
        "colab": {
          "base_uri": "https://localhost:8080/"
        },
        "id": "sHpDb9iHs3xz",
        "outputId": "6eb7d3eb-48a1-4cb9-a216-8dc1765d567f"
      },
      "outputs": [
        {
          "name": "stdout",
          "output_type": "stream",
          "text": [
            "                                   Username First Name         Last Name  \\\n",
            "6050  Alejandro1596 (alejo1297@hotmail.com)  Alejandro  Montoya Valencia   \n",
            "\n",
            "      Ticket Number Order ID       Order Status  Ticket Purchased Date  \\\n",
            "6050              3    #2994  Epayco-processing  May 15, 2022 11:02 am   \n",
            "\n",
            "            Status  \n",
            "6050  Ticket Buyer  \n"
          ]
        }
      ],
      "source": [
        "print(df[df[\"Ticket Number\"]==ganador])"
      ]
    }
  ],
  "metadata": {
    "colab": {
      "name": "Número ganador",
      "provenance": []
    },
    "kernelspec": {
      "display_name": "Python 3",
      "name": "python3"
    },
    "language_info": {
      "name": "python"
    }
  },
  "nbformat": 4,
  "nbformat_minor": 0
}